{
  "nbformat": 4,
  "nbformat_minor": 0,
  "metadata": {
    "colab": {
      "provenance": [],
      "machine_shape": "hm",
      "gpuType": "L4"
    },
    "kernelspec": {
      "name": "python3",
      "display_name": "Python 3"
    },
    "language_info": {
      "name": "python"
    },
    "accelerator": "GPU"
  },
  "cells": [
    {
      "cell_type": "markdown",
      "source": [
        "GCN [SEMI-SUPERVISED CLASSIFICATION WITH\n",
        "GRAPH CONVOLUTIONAL NETWORKS](https://arxiv.org/pdf/1609.02907)"
      ],
      "metadata": {
        "id": "X4EEeu_TcZev"
      }
    },
    {
      "cell_type": "code",
      "execution_count": 1,
      "metadata": {
        "id": "Yd6Ykyk8Qk5H"
      },
      "outputs": [],
      "source": [
        "from load import Load_Data_Construct_A_For_GNN\n",
        "import torch\n",
        "import torch.nn as nn\n",
        "import torch.nn.functional as F\n",
        "import math\n",
        "import matplotlib.pyplot as plt\n",
        "import numpy as np"
      ]
    },
    {
      "cell_type": "code",
      "source": [
        "device = torch.device('cuda' if torch.cuda.is_available() else 'cpu')"
      ],
      "metadata": {
        "id": "ui2Jll7URIPN"
      },
      "execution_count": 2,
      "outputs": []
    },
    {
      "cell_type": "code",
      "source": [
        "data = Load_Data_Construct_A_For_GNN(dir1='/content/drive/MyDrive/cora.content.txt', dir2='/content/drive/MyDrive/cora.cites', device=device)"
      ],
      "metadata": {
        "id": "81LnXEyZQ5Ym"
      },
      "execution_count": 3,
      "outputs": []
    },
    {
      "cell_type": "code",
      "source": [
        "fts, lbls, A, idx_train, idx_val, idx_test = data.load_data()"
      ],
      "metadata": {
        "id": "oYsMMZt4Q8mB"
      },
      "execution_count": 4,
      "outputs": []
    },
    {
      "cell_type": "code",
      "source": [
        "fts.shape, lbls, A.shape"
      ],
      "metadata": {
        "colab": {
          "base_uri": "https://localhost:8080/"
        },
        "id": "7zSIi1V6Rs_P",
        "outputId": "f7e054ea-fa36-4f7a-d472-7955aaeb8769"
      },
      "execution_count": 5,
      "outputs": [
        {
          "output_type": "execute_result",
          "data": {
            "text/plain": [
              "(torch.Size([2708, 1433]),\n",
              " tensor([0, 5, 6,  ..., 1, 2, 0], device='cuda:0'),\n",
              " torch.Size([2708, 2708]))"
            ]
          },
          "metadata": {},
          "execution_count": 5
        }
      ]
    },
    {
      "cell_type": "code",
      "source": [
        "class GCN_layer(nn.Module):\n",
        "  def __init__(self, nfeat, nhid, bias=True):\n",
        "    super().__init__()\n",
        "    self.W = nn.Parameter(torch.randn(nfeat, nhid))\n",
        "    if bias:\n",
        "      self.bias = nn.Parameter(torch.randn(nhid))\n",
        "    else:\n",
        "      self.register_parameter('bias', None)\n",
        "    self.reset_params()\n",
        "\n",
        "  def reset_params(self):\n",
        "    stdv = 1. / math.sqrt(self.W.data.size(1))\n",
        "    self.W.data.uniform_(-stdv, stdv)\n",
        "    if self.bias is not None:\n",
        "      self.bias.data.uniform_(-stdv, stdv)\n",
        "\n",
        "\n",
        "  def forward(self, x, adj):\n",
        "    x = torch.matmul(x, self.W)\n",
        "    x = torch.matmul(adj, x)\n",
        "    if self.bias is not None:\n",
        "      return x + self.bias\n",
        "    else:\n",
        "      return x\n"
      ],
      "metadata": {
        "id": "FWFi4rupRyy2"
      },
      "execution_count": 6,
      "outputs": []
    },
    {
      "cell_type": "code",
      "source": [
        "class GCN(nn.Module):\n",
        "  def __init__(self, nfeat, nhid, nclass):\n",
        "    super().__init__()\n",
        "    self.layer1 = GCN_layer(nfeat, nhid)\n",
        "    self.layer2 = GCN_layer(nhid, nclass)\n",
        "\n",
        "  def forward(self, x, adj):\n",
        "    x = self.layer2(F.dropout(F.relu(self.layer1(x, adj)), 0.5, training=self.training), adj)\n",
        "    return F.log_softmax(x, dim=1)"
      ],
      "metadata": {
        "id": "imCxDQyaTFcF"
      },
      "execution_count": 7,
      "outputs": []
    },
    {
      "cell_type": "code",
      "source": [
        "model = GCN(fts.shape[1], 128, lbls.max().item()+1).to(device)\n",
        "optimizer = torch.optim.Adam(model.parameters(), lr=0.001)"
      ],
      "metadata": {
        "id": "VoOiROm-Tsm8"
      },
      "execution_count": 22,
      "outputs": []
    },
    {
      "cell_type": "code",
      "source": [
        "def valid(y_hat, lbls):\n",
        "  _, pred = torch.max(y_hat, 1)\n",
        "  acc = (pred == lbls).sum().item() / len(lbls)\n",
        "  return acc"
      ],
      "metadata": {
        "id": "xidoKusZUX7g"
      },
      "execution_count": 23,
      "outputs": []
    },
    {
      "cell_type": "code",
      "source": [
        "best_val_loss = float('inf')"
      ],
      "metadata": {
        "id": "KWaUBgFZVbi3"
      },
      "execution_count": 24,
      "outputs": []
    },
    {
      "cell_type": "code",
      "source": [
        "loss_train_lst = []\n",
        "loss_val_lst = []\n",
        "acc_train_lst = []\n",
        "acc_val_lst = []"
      ],
      "metadata": {
        "id": "DQPYxyx_WOjB"
      },
      "execution_count": 25,
      "outputs": []
    },
    {
      "cell_type": "code",
      "source": [
        "for epoch in range(200):\n",
        "  model.train()\n",
        "  y_hat = model(fts, A)\n",
        "  loss_train = F.nll_loss(y_hat[idx_train], lbls[idx_train])\n",
        "  loss_train_lst.append(loss_train.item())\n",
        "  acc_train = valid(y_hat[idx_train], lbls[idx_train])\n",
        "  acc_train_lst.append(acc_train)\n",
        "  optimizer.zero_grad()\n",
        "  loss_train.backward()\n",
        "  optimizer.step()\n",
        "\n",
        "  model.eval()\n",
        "  with torch.no_grad():\n",
        "    y_hat = model(fts, A)\n",
        "    loss_val = F.nll_loss(y_hat[idx_val], lbls[idx_val])\n",
        "    loss_val_lst.append(loss_val.item())\n",
        "    acc_val = valid(y_hat[idx_val], lbls[idx_val])\n",
        "    acc_val_lst.append(acc_val)\n",
        "\n",
        "  print('epoch:{}, loss_train:{:.4f}, acc_train:{:.4f}, loss_val:{:.4f}, acc_val:{:.4f}'.format(\n",
        "      epoch+1, loss_train, acc_train, loss_val, acc_val\n",
        "  ))\n",
        "\n",
        "  if loss_val < best_val_loss:\n",
        "    best_val_loss = loss_val\n",
        "    torch.save(model.state_dict(), 'best_model.pth')"
      ],
      "metadata": {
        "colab": {
          "base_uri": "https://localhost:8080/"
        },
        "id": "Rq2oR3aVUEEj",
        "outputId": "22d0e47a-ea7d-4bf3-fbb1-1988f700894c"
      },
      "execution_count": 26,
      "outputs": [
        {
          "output_type": "stream",
          "name": "stdout",
          "text": [
            "epoch:1, loss_train:2.0997, acc_train:0.1000, loss_val:2.0838, acc_val:0.1087\n",
            "epoch:2, loss_train:2.0862, acc_train:0.1000, loss_val:2.0742, acc_val:0.1087\n",
            "epoch:3, loss_train:2.0807, acc_train:0.1000, loss_val:2.0648, acc_val:0.1087\n",
            "epoch:4, loss_train:2.0677, acc_train:0.1000, loss_val:2.0555, acc_val:0.1087\n",
            "epoch:5, loss_train:2.0478, acc_train:0.1000, loss_val:2.0463, acc_val:0.1087\n",
            "epoch:6, loss_train:2.0407, acc_train:0.1000, loss_val:2.0373, acc_val:0.1087\n",
            "epoch:7, loss_train:2.0279, acc_train:0.1000, loss_val:2.0284, acc_val:0.1087\n",
            "epoch:8, loss_train:2.0146, acc_train:0.1000, loss_val:2.0197, acc_val:0.1087\n",
            "epoch:9, loss_train:2.0194, acc_train:0.1000, loss_val:2.0112, acc_val:0.1087\n",
            "epoch:10, loss_train:1.9914, acc_train:0.1000, loss_val:2.0029, acc_val:0.1087\n",
            "epoch:11, loss_train:1.9970, acc_train:0.1071, loss_val:1.9947, acc_val:0.1087\n",
            "epoch:12, loss_train:1.9824, acc_train:0.1000, loss_val:1.9866, acc_val:0.1087\n",
            "epoch:13, loss_train:1.9763, acc_train:0.1000, loss_val:1.9788, acc_val:0.1087\n",
            "epoch:14, loss_train:1.9676, acc_train:0.1000, loss_val:1.9711, acc_val:0.1087\n",
            "epoch:15, loss_train:1.9466, acc_train:0.1000, loss_val:1.9636, acc_val:0.1087\n",
            "epoch:16, loss_train:1.9476, acc_train:0.1071, loss_val:1.9562, acc_val:0.1087\n",
            "epoch:17, loss_train:1.9439, acc_train:0.1143, loss_val:1.9489, acc_val:0.1087\n",
            "epoch:18, loss_train:1.9294, acc_train:0.1143, loss_val:1.9418, acc_val:0.1087\n",
            "epoch:19, loss_train:1.9224, acc_train:0.1000, loss_val:1.9348, acc_val:0.1087\n",
            "epoch:20, loss_train:1.9134, acc_train:0.1071, loss_val:1.9278, acc_val:0.1087\n",
            "epoch:21, loss_train:1.9086, acc_train:0.1071, loss_val:1.9210, acc_val:0.1087\n",
            "epoch:22, loss_train:1.9021, acc_train:0.1357, loss_val:1.9142, acc_val:0.1087\n",
            "epoch:23, loss_train:1.8862, acc_train:0.1571, loss_val:1.9075, acc_val:0.1087\n",
            "epoch:24, loss_train:1.8799, acc_train:0.2071, loss_val:1.9008, acc_val:0.1250\n",
            "epoch:25, loss_train:1.8758, acc_train:0.2500, loss_val:1.8941, acc_val:0.1888\n",
            "epoch:26, loss_train:1.8619, acc_train:0.3929, loss_val:1.8875, acc_val:0.3337\n",
            "epoch:27, loss_train:1.8580, acc_train:0.3857, loss_val:1.8810, acc_val:0.4225\n",
            "epoch:28, loss_train:1.8467, acc_train:0.4571, loss_val:1.8744, acc_val:0.4963\n",
            "epoch:29, loss_train:1.8326, acc_train:0.4786, loss_val:1.8679, acc_val:0.5125\n",
            "epoch:30, loss_train:1.8372, acc_train:0.4357, loss_val:1.8615, acc_val:0.5138\n",
            "epoch:31, loss_train:1.8154, acc_train:0.5714, loss_val:1.8551, acc_val:0.5112\n",
            "epoch:32, loss_train:1.8264, acc_train:0.5000, loss_val:1.8488, acc_val:0.5050\n",
            "epoch:33, loss_train:1.8049, acc_train:0.5929, loss_val:1.8425, acc_val:0.4963\n",
            "epoch:34, loss_train:1.8066, acc_train:0.5643, loss_val:1.8363, acc_val:0.4775\n",
            "epoch:35, loss_train:1.7932, acc_train:0.5500, loss_val:1.8301, acc_val:0.4675\n",
            "epoch:36, loss_train:1.7681, acc_train:0.5786, loss_val:1.8240, acc_val:0.4537\n",
            "epoch:37, loss_train:1.7771, acc_train:0.5571, loss_val:1.8179, acc_val:0.4462\n",
            "epoch:38, loss_train:1.7659, acc_train:0.5429, loss_val:1.8118, acc_val:0.4363\n",
            "epoch:39, loss_train:1.7674, acc_train:0.5143, loss_val:1.8058, acc_val:0.4238\n",
            "epoch:40, loss_train:1.7496, acc_train:0.5286, loss_val:1.7999, acc_val:0.4163\n",
            "epoch:41, loss_train:1.7409, acc_train:0.5500, loss_val:1.7940, acc_val:0.4113\n",
            "epoch:42, loss_train:1.7266, acc_train:0.5714, loss_val:1.7881, acc_val:0.4075\n",
            "epoch:43, loss_train:1.7372, acc_train:0.5071, loss_val:1.7823, acc_val:0.4037\n",
            "epoch:44, loss_train:1.7074, acc_train:0.5214, loss_val:1.7764, acc_val:0.3962\n",
            "epoch:45, loss_train:1.7228, acc_train:0.4643, loss_val:1.7706, acc_val:0.3912\n",
            "epoch:46, loss_train:1.7008, acc_train:0.4714, loss_val:1.7647, acc_val:0.3887\n",
            "epoch:47, loss_train:1.6945, acc_train:0.5071, loss_val:1.7589, acc_val:0.3887\n",
            "epoch:48, loss_train:1.6911, acc_train:0.4571, loss_val:1.7531, acc_val:0.3837\n",
            "epoch:49, loss_train:1.6913, acc_train:0.4786, loss_val:1.7473, acc_val:0.3825\n",
            "epoch:50, loss_train:1.6799, acc_train:0.5214, loss_val:1.7416, acc_val:0.3825\n",
            "epoch:51, loss_train:1.6668, acc_train:0.4714, loss_val:1.7360, acc_val:0.3825\n",
            "epoch:52, loss_train:1.6638, acc_train:0.4571, loss_val:1.7305, acc_val:0.3787\n",
            "epoch:53, loss_train:1.6668, acc_train:0.4429, loss_val:1.7250, acc_val:0.3800\n",
            "epoch:54, loss_train:1.6365, acc_train:0.5071, loss_val:1.7195, acc_val:0.3812\n",
            "epoch:55, loss_train:1.6426, acc_train:0.5000, loss_val:1.7140, acc_val:0.3875\n",
            "epoch:56, loss_train:1.6395, acc_train:0.4357, loss_val:1.7086, acc_val:0.3875\n",
            "epoch:57, loss_train:1.6205, acc_train:0.4643, loss_val:1.7033, acc_val:0.3887\n",
            "epoch:58, loss_train:1.6209, acc_train:0.5357, loss_val:1.6979, acc_val:0.3900\n",
            "epoch:59, loss_train:1.6140, acc_train:0.4429, loss_val:1.6926, acc_val:0.3900\n",
            "epoch:60, loss_train:1.6045, acc_train:0.5143, loss_val:1.6873, acc_val:0.3900\n",
            "epoch:61, loss_train:1.5944, acc_train:0.4857, loss_val:1.6820, acc_val:0.3912\n",
            "epoch:62, loss_train:1.5838, acc_train:0.5214, loss_val:1.6768, acc_val:0.3925\n",
            "epoch:63, loss_train:1.5920, acc_train:0.5071, loss_val:1.6716, acc_val:0.3962\n",
            "epoch:64, loss_train:1.5771, acc_train:0.5000, loss_val:1.6664, acc_val:0.3975\n",
            "epoch:65, loss_train:1.5680, acc_train:0.5214, loss_val:1.6612, acc_val:0.3975\n",
            "epoch:66, loss_train:1.5706, acc_train:0.5214, loss_val:1.6561, acc_val:0.3975\n",
            "epoch:67, loss_train:1.5549, acc_train:0.4714, loss_val:1.6510, acc_val:0.4062\n",
            "epoch:68, loss_train:1.5455, acc_train:0.5571, loss_val:1.6458, acc_val:0.4075\n",
            "epoch:69, loss_train:1.5297, acc_train:0.5143, loss_val:1.6407, acc_val:0.4100\n",
            "epoch:70, loss_train:1.5447, acc_train:0.5214, loss_val:1.6356, acc_val:0.4125\n",
            "epoch:71, loss_train:1.5221, acc_train:0.5000, loss_val:1.6305, acc_val:0.4138\n",
            "epoch:72, loss_train:1.5199, acc_train:0.5357, loss_val:1.6254, acc_val:0.4163\n",
            "epoch:73, loss_train:1.5075, acc_train:0.5286, loss_val:1.6202, acc_val:0.4200\n",
            "epoch:74, loss_train:1.5001, acc_train:0.4929, loss_val:1.6152, acc_val:0.4200\n",
            "epoch:75, loss_train:1.4982, acc_train:0.5500, loss_val:1.6101, acc_val:0.4238\n",
            "epoch:76, loss_train:1.4863, acc_train:0.5214, loss_val:1.6050, acc_val:0.4313\n",
            "epoch:77, loss_train:1.4673, acc_train:0.5214, loss_val:1.6000, acc_val:0.4363\n",
            "epoch:78, loss_train:1.4637, acc_train:0.5643, loss_val:1.5949, acc_val:0.4363\n",
            "epoch:79, loss_train:1.4849, acc_train:0.5500, loss_val:1.5898, acc_val:0.4363\n",
            "epoch:80, loss_train:1.4470, acc_train:0.5571, loss_val:1.5848, acc_val:0.4412\n",
            "epoch:81, loss_train:1.4500, acc_train:0.5643, loss_val:1.5797, acc_val:0.4475\n",
            "epoch:82, loss_train:1.4483, acc_train:0.5071, loss_val:1.5747, acc_val:0.4512\n",
            "epoch:83, loss_train:1.4419, acc_train:0.5857, loss_val:1.5697, acc_val:0.4562\n",
            "epoch:84, loss_train:1.4334, acc_train:0.5643, loss_val:1.5646, acc_val:0.4575\n",
            "epoch:85, loss_train:1.4063, acc_train:0.6071, loss_val:1.5596, acc_val:0.4612\n",
            "epoch:86, loss_train:1.4118, acc_train:0.6143, loss_val:1.5545, acc_val:0.4637\n",
            "epoch:87, loss_train:1.4080, acc_train:0.5929, loss_val:1.5495, acc_val:0.4662\n",
            "epoch:88, loss_train:1.4068, acc_train:0.5929, loss_val:1.5444, acc_val:0.4688\n",
            "epoch:89, loss_train:1.4148, acc_train:0.5714, loss_val:1.5394, acc_val:0.4775\n",
            "epoch:90, loss_train:1.3890, acc_train:0.6286, loss_val:1.5343, acc_val:0.4788\n",
            "epoch:91, loss_train:1.3862, acc_train:0.5929, loss_val:1.5292, acc_val:0.4825\n",
            "epoch:92, loss_train:1.3792, acc_train:0.6000, loss_val:1.5242, acc_val:0.4900\n",
            "epoch:93, loss_train:1.3747, acc_train:0.6357, loss_val:1.5191, acc_val:0.4913\n",
            "epoch:94, loss_train:1.3532, acc_train:0.6286, loss_val:1.5140, acc_val:0.4950\n",
            "epoch:95, loss_train:1.3437, acc_train:0.6643, loss_val:1.5089, acc_val:0.4988\n",
            "epoch:96, loss_train:1.3543, acc_train:0.6571, loss_val:1.5038, acc_val:0.5025\n",
            "epoch:97, loss_train:1.3409, acc_train:0.6143, loss_val:1.4987, acc_val:0.5112\n",
            "epoch:98, loss_train:1.3371, acc_train:0.6857, loss_val:1.4936, acc_val:0.5150\n",
            "epoch:99, loss_train:1.3158, acc_train:0.7071, loss_val:1.4884, acc_val:0.5188\n",
            "epoch:100, loss_train:1.3294, acc_train:0.6857, loss_val:1.4832, acc_val:0.5212\n",
            "epoch:101, loss_train:1.3061, acc_train:0.6786, loss_val:1.4781, acc_val:0.5288\n",
            "epoch:102, loss_train:1.3105, acc_train:0.7000, loss_val:1.4729, acc_val:0.5337\n",
            "epoch:103, loss_train:1.2949, acc_train:0.6929, loss_val:1.4677, acc_val:0.5375\n",
            "epoch:104, loss_train:1.2730, acc_train:0.7357, loss_val:1.4625, acc_val:0.5387\n",
            "epoch:105, loss_train:1.3081, acc_train:0.6714, loss_val:1.4573, acc_val:0.5400\n",
            "epoch:106, loss_train:1.2718, acc_train:0.7000, loss_val:1.4521, acc_val:0.5413\n",
            "epoch:107, loss_train:1.2482, acc_train:0.7143, loss_val:1.4469, acc_val:0.5475\n",
            "epoch:108, loss_train:1.2701, acc_train:0.7000, loss_val:1.4416, acc_val:0.5513\n",
            "epoch:109, loss_train:1.2518, acc_train:0.7357, loss_val:1.4365, acc_val:0.5575\n",
            "epoch:110, loss_train:1.2405, acc_train:0.7286, loss_val:1.4312, acc_val:0.5600\n",
            "epoch:111, loss_train:1.2321, acc_train:0.7214, loss_val:1.4260, acc_val:0.5700\n",
            "epoch:112, loss_train:1.2240, acc_train:0.7571, loss_val:1.4208, acc_val:0.5775\n",
            "epoch:113, loss_train:1.2210, acc_train:0.7643, loss_val:1.4156, acc_val:0.5825\n",
            "epoch:114, loss_train:1.2310, acc_train:0.7500, loss_val:1.4104, acc_val:0.5925\n",
            "epoch:115, loss_train:1.2075, acc_train:0.7714, loss_val:1.4052, acc_val:0.5988\n",
            "epoch:116, loss_train:1.2040, acc_train:0.7786, loss_val:1.3999, acc_val:0.5988\n",
            "epoch:117, loss_train:1.1695, acc_train:0.7857, loss_val:1.3947, acc_val:0.6025\n",
            "epoch:118, loss_train:1.1718, acc_train:0.7857, loss_val:1.3895, acc_val:0.6025\n",
            "epoch:119, loss_train:1.1688, acc_train:0.7643, loss_val:1.3842, acc_val:0.6075\n",
            "epoch:120, loss_train:1.1614, acc_train:0.8071, loss_val:1.3789, acc_val:0.6125\n",
            "epoch:121, loss_train:1.1580, acc_train:0.8143, loss_val:1.3736, acc_val:0.6150\n",
            "epoch:122, loss_train:1.1590, acc_train:0.8071, loss_val:1.3683, acc_val:0.6212\n",
            "epoch:123, loss_train:1.1344, acc_train:0.7786, loss_val:1.3630, acc_val:0.6250\n",
            "epoch:124, loss_train:1.1296, acc_train:0.7857, loss_val:1.3578, acc_val:0.6288\n",
            "epoch:125, loss_train:1.1181, acc_train:0.7857, loss_val:1.3525, acc_val:0.6288\n",
            "epoch:126, loss_train:1.1261, acc_train:0.8071, loss_val:1.3472, acc_val:0.6325\n",
            "epoch:127, loss_train:1.1240, acc_train:0.7929, loss_val:1.3420, acc_val:0.6375\n",
            "epoch:128, loss_train:1.1099, acc_train:0.8214, loss_val:1.3367, acc_val:0.6412\n",
            "epoch:129, loss_train:1.0898, acc_train:0.8286, loss_val:1.3315, acc_val:0.6412\n",
            "epoch:130, loss_train:1.1224, acc_train:0.7857, loss_val:1.3263, acc_val:0.6412\n",
            "epoch:131, loss_train:1.0812, acc_train:0.8000, loss_val:1.3211, acc_val:0.6512\n",
            "epoch:132, loss_train:1.0604, acc_train:0.8286, loss_val:1.3158, acc_val:0.6550\n",
            "epoch:133, loss_train:1.0846, acc_train:0.8000, loss_val:1.3106, acc_val:0.6587\n",
            "epoch:134, loss_train:1.0662, acc_train:0.8286, loss_val:1.3053, acc_val:0.6587\n",
            "epoch:135, loss_train:1.0744, acc_train:0.7929, loss_val:1.3001, acc_val:0.6613\n",
            "epoch:136, loss_train:1.0486, acc_train:0.8214, loss_val:1.2949, acc_val:0.6650\n",
            "epoch:137, loss_train:1.0264, acc_train:0.8429, loss_val:1.2897, acc_val:0.6687\n",
            "epoch:138, loss_train:1.0349, acc_train:0.8214, loss_val:1.2845, acc_val:0.6750\n",
            "epoch:139, loss_train:1.0387, acc_train:0.8214, loss_val:1.2793, acc_val:0.6787\n",
            "epoch:140, loss_train:1.0191, acc_train:0.8286, loss_val:1.2741, acc_val:0.6787\n",
            "epoch:141, loss_train:1.0205, acc_train:0.8286, loss_val:1.2690, acc_val:0.6800\n",
            "epoch:142, loss_train:1.0221, acc_train:0.8214, loss_val:1.2639, acc_val:0.6825\n",
            "epoch:143, loss_train:0.9948, acc_train:0.8500, loss_val:1.2588, acc_val:0.6875\n",
            "epoch:144, loss_train:1.0024, acc_train:0.8500, loss_val:1.2538, acc_val:0.6925\n",
            "epoch:145, loss_train:0.9939, acc_train:0.8500, loss_val:1.2488, acc_val:0.6975\n",
            "epoch:146, loss_train:0.9661, acc_train:0.8429, loss_val:1.2438, acc_val:0.7000\n",
            "epoch:147, loss_train:0.9574, acc_train:0.8500, loss_val:1.2388, acc_val:0.7025\n",
            "epoch:148, loss_train:0.9602, acc_train:0.8643, loss_val:1.2339, acc_val:0.7037\n",
            "epoch:149, loss_train:0.9629, acc_train:0.8714, loss_val:1.2289, acc_val:0.7050\n",
            "epoch:150, loss_train:0.9482, acc_train:0.8786, loss_val:1.2240, acc_val:0.7075\n",
            "epoch:151, loss_train:0.9373, acc_train:0.8643, loss_val:1.2190, acc_val:0.7113\n",
            "epoch:152, loss_train:0.9390, acc_train:0.8786, loss_val:1.2141, acc_val:0.7113\n",
            "epoch:153, loss_train:0.9277, acc_train:0.8500, loss_val:1.2092, acc_val:0.7113\n",
            "epoch:154, loss_train:0.9216, acc_train:0.8714, loss_val:1.2042, acc_val:0.7125\n",
            "epoch:155, loss_train:0.9144, acc_train:0.8500, loss_val:1.1993, acc_val:0.7137\n",
            "epoch:156, loss_train:0.9235, acc_train:0.8643, loss_val:1.1944, acc_val:0.7200\n",
            "epoch:157, loss_train:0.9108, acc_train:0.9000, loss_val:1.1895, acc_val:0.7200\n",
            "epoch:158, loss_train:0.8965, acc_train:0.8571, loss_val:1.1845, acc_val:0.7212\n",
            "epoch:159, loss_train:0.8890, acc_train:0.8643, loss_val:1.1796, acc_val:0.7262\n",
            "epoch:160, loss_train:0.8842, acc_train:0.8786, loss_val:1.1747, acc_val:0.7275\n",
            "epoch:161, loss_train:0.8688, acc_train:0.8929, loss_val:1.1699, acc_val:0.7300\n",
            "epoch:162, loss_train:0.8629, acc_train:0.8786, loss_val:1.1651, acc_val:0.7300\n",
            "epoch:163, loss_train:0.8479, acc_train:0.8857, loss_val:1.1604, acc_val:0.7288\n",
            "epoch:164, loss_train:0.8607, acc_train:0.8714, loss_val:1.1556, acc_val:0.7350\n",
            "epoch:165, loss_train:0.8523, acc_train:0.9071, loss_val:1.1508, acc_val:0.7388\n",
            "epoch:166, loss_train:0.8562, acc_train:0.8857, loss_val:1.1461, acc_val:0.7400\n",
            "epoch:167, loss_train:0.8372, acc_train:0.9000, loss_val:1.1414, acc_val:0.7450\n",
            "epoch:168, loss_train:0.8362, acc_train:0.8786, loss_val:1.1367, acc_val:0.7475\n",
            "epoch:169, loss_train:0.8497, acc_train:0.8857, loss_val:1.1321, acc_val:0.7500\n",
            "epoch:170, loss_train:0.8420, acc_train:0.8786, loss_val:1.1274, acc_val:0.7512\n",
            "epoch:171, loss_train:0.8197, acc_train:0.8714, loss_val:1.1227, acc_val:0.7525\n",
            "epoch:172, loss_train:0.8008, acc_train:0.8929, loss_val:1.1181, acc_val:0.7538\n",
            "epoch:173, loss_train:0.8071, acc_train:0.8857, loss_val:1.1135, acc_val:0.7562\n",
            "epoch:174, loss_train:0.7905, acc_train:0.9214, loss_val:1.1089, acc_val:0.7575\n",
            "epoch:175, loss_train:0.7960, acc_train:0.9214, loss_val:1.1043, acc_val:0.7612\n",
            "epoch:176, loss_train:0.7973, acc_train:0.9071, loss_val:1.0997, acc_val:0.7612\n",
            "epoch:177, loss_train:0.7654, acc_train:0.9143, loss_val:1.0952, acc_val:0.7625\n",
            "epoch:178, loss_train:0.7586, acc_train:0.9214, loss_val:1.0907, acc_val:0.7650\n",
            "epoch:179, loss_train:0.7616, acc_train:0.9071, loss_val:1.0862, acc_val:0.7688\n",
            "epoch:180, loss_train:0.7554, acc_train:0.9214, loss_val:1.0818, acc_val:0.7712\n",
            "epoch:181, loss_train:0.7752, acc_train:0.9071, loss_val:1.0775, acc_val:0.7712\n",
            "epoch:182, loss_train:0.7497, acc_train:0.9214, loss_val:1.0732, acc_val:0.7762\n",
            "epoch:183, loss_train:0.7238, acc_train:0.9429, loss_val:1.0689, acc_val:0.7775\n",
            "epoch:184, loss_train:0.7546, acc_train:0.8929, loss_val:1.0646, acc_val:0.7788\n",
            "epoch:185, loss_train:0.7362, acc_train:0.8929, loss_val:1.0603, acc_val:0.7788\n",
            "epoch:186, loss_train:0.7357, acc_train:0.9143, loss_val:1.0561, acc_val:0.7788\n",
            "epoch:187, loss_train:0.7330, acc_train:0.9143, loss_val:1.0520, acc_val:0.7800\n",
            "epoch:188, loss_train:0.7409, acc_train:0.9286, loss_val:1.0478, acc_val:0.7837\n",
            "epoch:189, loss_train:0.7244, acc_train:0.9286, loss_val:1.0437, acc_val:0.7837\n",
            "epoch:190, loss_train:0.7037, acc_train:0.9286, loss_val:1.0396, acc_val:0.7837\n",
            "epoch:191, loss_train:0.7166, acc_train:0.9357, loss_val:1.0355, acc_val:0.7837\n",
            "epoch:192, loss_train:0.6813, acc_train:0.9214, loss_val:1.0315, acc_val:0.7850\n",
            "epoch:193, loss_train:0.6922, acc_train:0.9214, loss_val:1.0275, acc_val:0.7850\n",
            "epoch:194, loss_train:0.6894, acc_train:0.9357, loss_val:1.0235, acc_val:0.7850\n",
            "epoch:195, loss_train:0.6726, acc_train:0.9286, loss_val:1.0196, acc_val:0.7875\n",
            "epoch:196, loss_train:0.6779, acc_train:0.9214, loss_val:1.0157, acc_val:0.7875\n",
            "epoch:197, loss_train:0.6395, acc_train:0.9357, loss_val:1.0119, acc_val:0.7875\n",
            "epoch:198, loss_train:0.6501, acc_train:0.9143, loss_val:1.0081, acc_val:0.7875\n",
            "epoch:199, loss_train:0.6594, acc_train:0.9286, loss_val:1.0043, acc_val:0.7875\n",
            "epoch:200, loss_train:0.6622, acc_train:0.9286, loss_val:1.0006, acc_val:0.7875\n"
          ]
        }
      ]
    },
    {
      "cell_type": "code",
      "source": [
        "epochs = list(np.arange(1, 201))"
      ],
      "metadata": {
        "id": "KWNCcH9TW3fR"
      },
      "execution_count": 27,
      "outputs": []
    },
    {
      "cell_type": "code",
      "source": [
        "plt.figure(figsize=(10, 5))\n",
        "plt.subplot(1, 2, 1)\n",
        "plt.plot(epochs, loss_train_lst, label='Training Loss')\n",
        "plt.plot(epochs, loss_val_lst, label='Validation Loss')\n",
        "plt.title('Traning and Validation Loss')\n",
        "plt.legend()\n",
        "plt.subplot(1, 2, 2)\n",
        "plt.plot(epochs, acc_train_lst, label='Training Accuracy')\n",
        "plt.plot(epochs, acc_val_lst, label='Validation Accuracy')\n",
        "plt.title('Training and Validation Accuracy')\n",
        "plt.legend()"
      ],
      "metadata": {
        "colab": {
          "base_uri": "https://localhost:8080/",
          "height": 485
        },
        "id": "jnpfkct_WpKV",
        "outputId": "ae7d67c3-6c68-4257-a394-e9ce70b165ab"
      },
      "execution_count": 28,
      "outputs": [
        {
          "output_type": "execute_result",
          "data": {
            "text/plain": [
              "<matplotlib.legend.Legend at 0x7f593130f6a0>"
            ]
          },
          "metadata": {},
          "execution_count": 28
        },
        {
          "output_type": "display_data",
          "data": {
            "text/plain": [
              "<Figure size 1000x500 with 2 Axes>"
            ],
            "image/png": "[encoded data removed]"
          },
          "metadata": {}
        }
      ]
    },
    {
      "cell_type": "code",
      "source": [
        "!pip install scikit-learn"
      ],
      "metadata": {
        "colab": {
          "base_uri": "https://localhost:8080/"
        },
        "id": "TCCCEzaaWpNN",
        "outputId": "d00a74a5-0c44-4097-9d82-74ad922f7f9f"
      },
      "execution_count": 29,
      "outputs": [
        {
          "output_type": "stream",
          "name": "stdout",
          "text": [
            "Requirement already satisfied: scikit-learn in /usr/local/lib/python3.10/dist-packages (1.2.2)\n",
            "Requirement already satisfied: numpy>=1.17.3 in /usr/local/lib/python3.10/dist-packages (from scikit-learn) (1.25.2)\n",
            "Requirement already satisfied: scipy>=1.3.2 in /usr/local/lib/python3.10/dist-packages (from scikit-learn) (1.11.4)\n",
            "Requirement already satisfied: joblib>=1.1.1 in /usr/local/lib/python3.10/dist-packages (from scikit-learn) (1.4.2)\n",
            "Requirement already satisfied: threadpoolctl>=2.0.0 in /usr/local/lib/python3.10/dist-packages (from scikit-learn) (3.5.0)\n"
          ]
        }
      ]
    },
    {
      "cell_type": "code",
      "source": [
        "from sklearn.metrics import f1_score"
      ],
      "metadata": {
        "id": "2HIZJM6TWpPd"
      },
      "execution_count": 30,
      "outputs": []
    },
    {
      "cell_type": "code",
      "source": [
        "model.load_state_dict(torch.load('best_model.pth'))"
      ],
      "metadata": {
        "colab": {
          "base_uri": "https://localhost:8080/"
        },
        "id": "1eWoFYQkbIzx",
        "outputId": "33b2cf43-8c8a-417c-c7b5-0bb8a99e591a"
      },
      "execution_count": 31,
      "outputs": [
        {
          "output_type": "execute_result",
          "data": {
            "text/plain": [
              "<All keys matched successfully>"
            ]
          },
          "metadata": {},
          "execution_count": 31
        }
      ]
    },
    {
      "cell_type": "code",
      "source": [
        "model.eval()\n",
        "y_hat = model(fts, A)\n",
        "f1_score(lbls[idx_test].cpu().detach().numpy(), y_hat[idx_test].cpu().detach().numpy().argmax(axis=1), average='micro')"
      ],
      "metadata": {
        "colab": {
          "base_uri": "https://localhost:8080/"
        },
        "id": "TavozxXkbQe4",
        "outputId": "08fcce1f-4680-4d53-c806-788c0b57bb6a"
      },
      "execution_count": 34,
      "outputs": [
        {
          "output_type": "execute_result",
          "data": {
            "text/plain": [
              "0.734"
            ]
          },
          "metadata": {},
          "execution_count": 34
        }
      ]
    }
  ]
}